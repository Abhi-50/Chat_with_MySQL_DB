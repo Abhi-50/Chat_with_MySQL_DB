{
 "cells": [
  {
   "cell_type": "code",
   "execution_count": 14,
   "metadata": {},
   "outputs": [],
   "source": [
    "import os \n",
    "from dotenv import load_dotenv\n",
    "\n",
    "load_dotenv()\n",
    "\n",
    "OPENAI_API_KEY = os.getenv(\"OPENAI_API_KEY\")"
   ]
  },
  {
   "cell_type": "code",
   "execution_count": 15,
   "metadata": {},
   "outputs": [],
   "source": [
    "few_shots = [\n",
    "    {\n",
    "        'Question': \"Which city has spent the highest amount over the years?\",\n",
    "        'SQL_Query': \"\"\"\n",
    "select City , sum(Amount) as Total_Amount\n",
    "from cc\n",
    "group by City\n",
    "order by Total_Amount desc\n",
    "limit 1;\n",
    "\"\"\"\n",
    "    },\n",
    "    {\n",
    "        'Question': \"Which card type has the highest amount over the years\",\n",
    "        'SQL_Query': \"\"\"\n",
    "select Card_Type , sum(Amount) as Total_Amount\n",
    "from cc\n",
    "group by Card_Type\n",
    "order by Total_Amount desc\n",
    "limit 1 ;\n",
    "\"\"\"\n",
    "    },\n",
    "    {\n",
    "        'Question': \"Which expense type has the highest amount over the years\",\n",
    "        'SQL_Query': \"\"\"\n",
    "select Exp_Type, sum(Amount) as Total_Amount\n",
    "from cc\n",
    "group by Exp_Type\n",
    "order by Total_Amount desc\n",
    "limit 1;\n",
    "\"\"\"\n",
    "    },\n",
    "    {\n",
    "        'Question': \"what is the total amount spent between males and females in numbers and percentage?\",\n",
    "        'SQL_Query': \"\"\"\n",
    "select Gender , sum(Amount) as Total_Amount, sum(Amount)*100/\n",
    "(select (sum(Amount)) as S\n",
    "from cc) as percent_of_total\n",
    "from cc\n",
    "group by Gender\n",
    "order by percent_of_total desc;\n",
    "\"\"\"\n",
    "    },\n",
    "    {\n",
    "        'Question': \"Show the month wise spend across the years\",\n",
    "        'SQL_Query': \"\"\"\n",
    "select Month, sum(Amount) as Total_Amount\n",
    "from cc\n",
    "group by month\n",
    "order by Amount desc;\n",
    "\"\"\"\n",
    "    }\n",
    "]"
   ]
  },
  {
   "cell_type": "code",
   "execution_count": 16,
   "metadata": {},
   "outputs": [
    {
     "data": {
      "text/plain": [
       "'\\nCREATE TABLE creditcards (\\n\\t`index` INTEGER, \\n\\t`City` TEXT, \\n\\t`Date` TEXT, \\n\\t`Card Type` TEXT, \\n\\t`Exp Type` TEXT, \\n\\t`Gender` TEXT, \\n\\t`Amount` INTEGER, \\n\\t`Year` INTEGER, \\n\\t`Month` TEXT\\n)ENGINE=InnoDB COLLATE utf8mb4_0900_ai_ci DEFAULT CHARSET=utf8mb4\\n\\n/*\\n3 rows from creditcards table:\\nindex\\tCity\\tDate\\tCard Type\\tExp Type\\tGender\\tAmount\\tYear\\tMonth\\n0\\tDelhi, India\\t29-10-2014\\tGold\\tBills\\tF\\t82475\\t2014\\tOctober\\n1\\tGreater Mumbai, India\\t22-08-2014\\tPlatinum\\tBills\\tF\\t32555\\t2014\\tAugust\\n2\\tBengaluru, India\\t27-08-2014\\tSilver\\tBills\\tF\\t101738\\t2014\\tAugust\\n*/'"
      ]
     },
     "execution_count": 16,
     "metadata": {},
     "output_type": "execute_result"
    }
   ],
   "source": [
    "from langchain_community.utilities import SQLDatabase\n",
    "\n",
    "db_uri = \"your_mysql_uri/credit_card\"   #credit_card is the name of the database in which the data is stored\n",
    "db = SQLDatabase.from_uri(db_uri)\n",
    "db.table_info"
   ]
  },
  {
   "cell_type": "code",
   "execution_count": 17,
   "metadata": {},
   "outputs": [],
   "source": [
    "from langchain_core.output_parsers import StrOutputParser\n",
    "from langchain_core.runnables import RunnablePassthrough\n",
    "from langchain_openai import ChatOpenAI\n",
    "\n",
    "llm = ChatOpenAI(api_key=OPENAI_API_KEY)"
   ]
  },
  {
   "cell_type": "code",
   "execution_count": 18,
   "metadata": {},
   "outputs": [
    {
     "name": "stderr",
     "output_type": "stream",
     "text": [
      "d:\\Python\\lib\\site-packages\\huggingface_hub\\file_download.py:1132: FutureWarning: `resume_download` is deprecated and will be removed in version 1.0.0. Downloads always resume when possible. If you want to force a new download, use `force_download=True`.\n",
      "  warnings.warn(\n"
     ]
    }
   ],
   "source": [
    "from langchain_huggingface.embeddings import HuggingFaceEmbeddings\n",
    "embeddings = HuggingFaceEmbeddings(model_name='sentence-transformers/all-MiniLM-L6-v2')"
   ]
  },
  {
   "cell_type": "code",
   "execution_count": 19,
   "metadata": {},
   "outputs": [],
   "source": [
    "to_vectorize = [\" \".join(example.values()) for example in few_shots]"
   ]
  },
  {
   "cell_type": "code",
   "execution_count": 20,
   "metadata": {},
   "outputs": [],
   "source": [
    "from langchain_community.vectorstores.chroma import Chroma\n",
    "\n",
    "vectorstore = Chroma.from_texts(to_vectorize, embedding=embeddings, metadatas=few_shots)"
   ]
  },
  {
   "cell_type": "code",
   "execution_count": 21,
   "metadata": {},
   "outputs": [
    {
     "data": {
      "text/plain": [
       "[{'Question': 'Which card type has the highest amount over the years',\n",
       "  'SQL_Query': '\\nselect Card_Type , sum(Amount) as Total_Amount\\nfrom cc\\ngroup by Card_Type\\norder by Total_Amount desc\\nlimit 1 ;\\n'},\n",
       " {'Question': 'Which card type has the highest amount over the years',\n",
       "  'SQL_Query': '\\nselect Card_Type , sum(Amount) as Total_Amount\\nfrom cc\\ngroup by Card_Type\\norder by Total_Amount desc\\nlimit 1 ;\\n'}]"
      ]
     },
     "execution_count": 21,
     "metadata": {},
     "output_type": "execute_result"
    }
   ],
   "source": [
    "from langchain.prompts import SemanticSimilarityExampleSelector\n",
    "\n",
    "example_selector = SemanticSimilarityExampleSelector(\n",
    "    vectorstore=vectorstore,\n",
    "    k=2\n",
    ")\n",
    "example_selector.select_examples({\"Question\":\"What card type is used mostly?\"})"
   ]
  },
  {
   "cell_type": "code",
   "execution_count": 22,
   "metadata": {},
   "outputs": [
    {
     "name": "stdout",
     "output_type": "stream",
     "text": [
      "You are a MySQL expert. Given an input question, first create a syntactically correct MySQL query to run, then look at the results of the query and return the answer to the input question.\n",
      "Unless the user specifies in the question a specific number of examples to obtain, query for at most {top_k} results using the LIMIT clause as per MySQL. You can order the results to return the most informative data in the database.\n",
      "Never query for all columns from a table. You must query only the columns that are needed to answer the question. Wrap each column name in backticks (`) to denote them as delimited identifiers.\n",
      "Pay attention to use only the column names you can see in the tables below. Be careful to not query for columns that do not exist. Also, pay attention to which column is in which table.\n",
      "Pay attention to use CURDATE() function to get the current date, if the question involves \"today\".\n",
      "\n",
      "Use the following format:\n",
      "\n",
      "Question: Question here\n",
      "SQLQuery: SQL Query to run\n",
      "SQLResult: Result of the SQLQuery\n",
      "Answer: Final answer here\n",
      "\n",
      "\n"
     ]
    }
   ],
   "source": [
    "from langchain.chains.sql_database.prompt import PROMPT_SUFFIX, _mysql_prompt\n",
    "\n",
    "print(_mysql_prompt)"
   ]
  },
  {
   "cell_type": "code",
   "execution_count": 23,
   "metadata": {},
   "outputs": [],
   "source": [
    "from langchain.prompts.prompt import PromptTemplate\n",
    "\n",
    "example_prompt = PromptTemplate(\n",
    "    input_variables=[\"Question\", \"SQL_Query\"],\n",
    "    template=\"\\nQuestion: {Question}\\nSQL_Query: {SQL_Query}\"\n",
    ")"
   ]
  },
  {
   "cell_type": "code",
   "execution_count": 24,
   "metadata": {},
   "outputs": [],
   "source": [
    "from langchain.prompts import FewShotPromptTemplate\n",
    "\n",
    "few_shot_prompt = FewShotPromptTemplate(\n",
    "    example_selector=example_selector,\n",
    "    example_prompt=example_prompt,\n",
    "    prefix=_mysql_prompt,\n",
    "    suffix=PROMPT_SUFFIX,\n",
    "    input_variables=[\"input\", \"table_info\", \"top_k\"] \n",
    ")"
   ]
  },
  {
   "cell_type": "code",
   "execution_count": 25,
   "metadata": {},
   "outputs": [],
   "source": [
    "from langchain_experimental.sql import SQLDatabaseChain\n",
    "\n",
    "new_chain = SQLDatabaseChain.from_llm(llm, db, verbose=True, prompt=few_shot_prompt)"
   ]
  },
  {
   "cell_type": "code",
   "execution_count": 32,
   "metadata": {},
   "outputs": [
    {
     "name": "stdout",
     "output_type": "stream",
     "text": [
      "\n",
      "\n",
      "\u001b[1m> Entering new SQLDatabaseChain chain...\u001b[0m\n",
      "In which month most amount was spend by females using a signature card type?\n",
      "SQLQuery:\u001b[32;1m\u001b[1;3mSELECT Month, SUM(Amount) AS Total_Amount\n",
      "FROM creditcards\n",
      "WHERE `Card Type` = 'Signature' AND Gender = 'F'\n",
      "GROUP BY Month\n",
      "ORDER BY Total_Amount DESC\n",
      "LIMIT 1;\u001b[0m\n",
      "SQLResult: \u001b[33;1m\u001b[1;3m[('October', Decimal('66991912'))]\u001b[0m\n",
      "Answer:\u001b[32;1m\u001b[1;3mIn the month of October, the most amount was spent by females using a signature card type.\u001b[0m\n",
      "\u001b[1m> Finished chain.\u001b[0m\n"
     ]
    },
    {
     "data": {
      "text/plain": [
       "{'query': 'In which month most amount was spend by females using a signature card type?',\n",
       " 'result': 'In the month of October, the most amount was spent by females using a signature card type.'}"
      ]
     },
     "execution_count": 32,
     "metadata": {},
     "output_type": "execute_result"
    }
   ],
   "source": [
    "new_chain(\"In which month most amount was spend by females using a signature card type?\")"
   ]
  }
 ],
 "metadata": {
  "kernelspec": {
   "display_name": "Python 3",
   "language": "python",
   "name": "python3"
  },
  "language_info": {
   "codemirror_mode": {
    "name": "ipython",
    "version": 3
   },
   "file_extension": ".py",
   "mimetype": "text/x-python",
   "name": "python",
   "nbconvert_exporter": "python",
   "pygments_lexer": "ipython3",
   "version": "3.10.5"
  }
 },
 "nbformat": 4,
 "nbformat_minor": 2
}
